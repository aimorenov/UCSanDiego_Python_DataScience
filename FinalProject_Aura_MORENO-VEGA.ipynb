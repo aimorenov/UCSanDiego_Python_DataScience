{
 "cells": [
  {
   "cell_type": "markdown",
   "id": "amazing-oriental",
   "metadata": {},
   "source": [
    "# Final project: Python for Data Science \n",
    "## Author: Aura MORENO VEGA\n",
    "### Dataset: Heart Disease from the UCI  (Univerisity of California Irvine)\n"
   ]
  },
  {
   "cell_type": "markdown",
   "id": "severe-northeast",
   "metadata": {},
   "source": [
    "## Description of Project"
   ]
  },
  {
   "cell_type": "markdown",
   "id": "respiratory-photographer",
   "metadata": {},
   "source": [
    "I have used the **UCI's Heart Disease dataset**, containing 13 different attributes for patients that present or not heart disease. \n",
    "\n",
    "I decided to use a **decision tree classifier** in order to determine if a **patient** could **present** or not heart **disease** based on such different available attributes."
   ]
  },
  {
   "cell_type": "code",
   "execution_count": 1,
   "id": "behavioral-magazine",
   "metadata": {},
   "outputs": [],
   "source": [
    "#Donwload dataset either from:\n",
    "\n",
    "##Kaggle:\n",
    "#https://www.kaggle.com/ronitf/heart-disease-uci\n",
    "\n",
    "##UCI repository: This is useful for detailed information on attributes\n",
    "#https://archive.ics.uci.edu/ml/datasets/heart+disease\n",
    "\n"
   ]
  },
  {
   "cell_type": "markdown",
   "id": "sustainable-dallas",
   "metadata": {},
   "source": [
    "## Description of Dataset: \n",
    "\n",
    "The dataset contains information for 303 patients, colected in different Institutions/Hospitals.\n",
    "\n",
    "I used the dataset from the Cleveland Clinic, USA.\n",
    "\n",
    "The are 13 attributes per patient, and a 14th attribute indicating whether the patient presented or not heart disease.\n",
    "\n",
    "The 13 attributes per patient are:\n",
    "\n",
    "    1.age\n",
    "    2.sex (1 = male, 0 = female)\n",
    "    3.cp: Chest pain type (4 values)\n",
    "    4.trestbps: Resting blood pressure (in mm Hg on admission to the hospital)\n",
    "    5.col: Serum cholestoral in mg/dl\n",
    "    6.fbs: Fasting blood sugar (fasting blood sugar > 120 mg/dl) (1 = true; 0 = false)\n",
    "    7.restecg: Resting electrocardiographic results (values 0,1,2)\n",
    "    8.thalach: Maximum heart rate achieved\n",
    "    9.exang: Exercise induced angina\n",
    "    10.oldpeak: ST depression induced by exercise relative to rest\n",
    "    11.slope: The slope of the peak exercise ST segment\n",
    "    12.ca: Number of major vessels (0-3) colored by flouroscopy\n",
    "    13.thal: 3 = normal; 6 = fixed defect; 7 = reversable defect\n"
   ]
  },
  {
   "cell_type": "markdown",
   "id": "crucial-trauma",
   "metadata": {},
   "source": [
    "### Import necessary libraries for this notebook"
   ]
  },
  {
   "cell_type": "code",
   "execution_count": 2,
   "id": "spatial-palmer",
   "metadata": {},
   "outputs": [],
   "source": [
    "#Import libraries to be used throughout analysis\n",
    "import pandas as pd\n",
    "import numpy as np\n",
    "import random\n",
    "import matplotlib.pyplot as plt\n",
    "import seaborn as sns\n",
    "from sklearn.metrics import accuracy_score\n",
    "from sklearn.model_selection import train_test_split\n",
    "from sklearn.tree import DecisionTreeClassifier"
   ]
  },
  {
   "cell_type": "markdown",
   "id": "adverse-landscape",
   "metadata": {},
   "source": [
    "## Step 1: Retrieve dataset"
   ]
  },
  {
   "cell_type": "code",
   "execution_count": 3,
   "id": "acknowledged-progressive",
   "metadata": {},
   "outputs": [],
   "source": [
    "#Donwload dataset from Kaggle\n",
    "# Data Source: https://www.kaggle.com/ronitf/heart-disease-uci\n",
    "# File: 'heart.csv'\n",
    "\n",
    "#Load original file\n",
    "heart = pd.read_csv('./heart.csv')\n",
    "#Make a copy for analysis\n",
    "heartdata=heart.copy()"
   ]
  },
  {
   "cell_type": "code",
   "execution_count": 4,
   "id": "mature-problem",
   "metadata": {},
   "outputs": [
    {
     "data": {
      "text/plain": [
       "(303, 14)"
      ]
     },
     "execution_count": 4,
     "metadata": {},
     "output_type": "execute_result"
    }
   ],
   "source": [
    "#Explore size of data:\n",
    "#Confirm that we have 303 patients and 14 attributes\n",
    "heartdata.shape"
   ]
  },
  {
   "cell_type": "code",
   "execution_count": 5,
   "id": "light-fusion",
   "metadata": {},
   "outputs": [
    {
     "data": {
      "text/html": [
       "<div>\n",
       "<style scoped>\n",
       "    .dataframe tbody tr th:only-of-type {\n",
       "        vertical-align: middle;\n",
       "    }\n",
       "\n",
       "    .dataframe tbody tr th {\n",
       "        vertical-align: top;\n",
       "    }\n",
       "\n",
       "    .dataframe thead th {\n",
       "        text-align: right;\n",
       "    }\n",
       "</style>\n",
       "<table border=\"1\" class=\"dataframe\">\n",
       "  <thead>\n",
       "    <tr style=\"text-align: right;\">\n",
       "      <th></th>\n",
       "      <th>age</th>\n",
       "      <th>sex</th>\n",
       "      <th>cp</th>\n",
       "      <th>trestbps</th>\n",
       "      <th>chol</th>\n",
       "      <th>fbs</th>\n",
       "      <th>restecg</th>\n",
       "      <th>thalach</th>\n",
       "      <th>exang</th>\n",
       "      <th>oldpeak</th>\n",
       "      <th>slope</th>\n",
       "      <th>ca</th>\n",
       "      <th>thal</th>\n",
       "      <th>target</th>\n",
       "    </tr>\n",
       "  </thead>\n",
       "  <tbody>\n",
       "    <tr>\n",
       "      <th>0</th>\n",
       "      <td>63</td>\n",
       "      <td>1</td>\n",
       "      <td>3</td>\n",
       "      <td>145</td>\n",
       "      <td>233</td>\n",
       "      <td>1</td>\n",
       "      <td>0</td>\n",
       "      <td>150</td>\n",
       "      <td>0</td>\n",
       "      <td>2.3</td>\n",
       "      <td>0</td>\n",
       "      <td>0</td>\n",
       "      <td>1</td>\n",
       "      <td>1</td>\n",
       "    </tr>\n",
       "    <tr>\n",
       "      <th>1</th>\n",
       "      <td>37</td>\n",
       "      <td>1</td>\n",
       "      <td>2</td>\n",
       "      <td>130</td>\n",
       "      <td>250</td>\n",
       "      <td>0</td>\n",
       "      <td>1</td>\n",
       "      <td>187</td>\n",
       "      <td>0</td>\n",
       "      <td>3.5</td>\n",
       "      <td>0</td>\n",
       "      <td>0</td>\n",
       "      <td>2</td>\n",
       "      <td>1</td>\n",
       "    </tr>\n",
       "    <tr>\n",
       "      <th>2</th>\n",
       "      <td>41</td>\n",
       "      <td>0</td>\n",
       "      <td>1</td>\n",
       "      <td>130</td>\n",
       "      <td>204</td>\n",
       "      <td>0</td>\n",
       "      <td>0</td>\n",
       "      <td>172</td>\n",
       "      <td>0</td>\n",
       "      <td>1.4</td>\n",
       "      <td>2</td>\n",
       "      <td>0</td>\n",
       "      <td>2</td>\n",
       "      <td>1</td>\n",
       "    </tr>\n",
       "    <tr>\n",
       "      <th>3</th>\n",
       "      <td>56</td>\n",
       "      <td>1</td>\n",
       "      <td>1</td>\n",
       "      <td>120</td>\n",
       "      <td>236</td>\n",
       "      <td>0</td>\n",
       "      <td>1</td>\n",
       "      <td>178</td>\n",
       "      <td>0</td>\n",
       "      <td>0.8</td>\n",
       "      <td>2</td>\n",
       "      <td>0</td>\n",
       "      <td>2</td>\n",
       "      <td>1</td>\n",
       "    </tr>\n",
       "    <tr>\n",
       "      <th>4</th>\n",
       "      <td>57</td>\n",
       "      <td>0</td>\n",
       "      <td>0</td>\n",
       "      <td>120</td>\n",
       "      <td>354</td>\n",
       "      <td>0</td>\n",
       "      <td>1</td>\n",
       "      <td>163</td>\n",
       "      <td>1</td>\n",
       "      <td>0.6</td>\n",
       "      <td>2</td>\n",
       "      <td>0</td>\n",
       "      <td>2</td>\n",
       "      <td>1</td>\n",
       "    </tr>\n",
       "  </tbody>\n",
       "</table>\n",
       "</div>"
      ],
      "text/plain": [
       "   age  sex  cp  trestbps  chol  fbs  restecg  thalach  exang  oldpeak  slope  \\\n",
       "0   63    1   3       145   233    1        0      150      0      2.3      0   \n",
       "1   37    1   2       130   250    0        1      187      0      3.5      0   \n",
       "2   41    0   1       130   204    0        0      172      0      1.4      2   \n",
       "3   56    1   1       120   236    0        1      178      0      0.8      2   \n",
       "4   57    0   0       120   354    0        1      163      1      0.6      2   \n",
       "\n",
       "   ca  thal  target  \n",
       "0   0     1       1  \n",
       "1   0     2       1  \n",
       "2   0     2       1  \n",
       "3   0     2       1  \n",
       "4   0     2       1  "
      ]
     },
     "execution_count": 5,
     "metadata": {},
     "output_type": "execute_result"
    }
   ],
   "source": [
    "#Visualize attributes of data:\n",
    "#Note: According to the description of the data:the last column (14th column), named \"target\":\n",
    "#indicates the presence (1) or abscence(0) of heart disease for such patient\n",
    "heartdata.head()"
   ]
  },
  {
   "cell_type": "markdown",
   "id": "cubic-defense",
   "metadata": {},
   "source": [
    "## Step 2: Clean and explore dataset"
   ]
  },
  {
   "cell_type": "markdown",
   "id": "threaded-supplier",
   "metadata": {},
   "source": [
    "### Missing values"
   ]
  },
  {
   "cell_type": "code",
   "execution_count": 6,
   "id": "trying-heart",
   "metadata": {},
   "outputs": [
    {
     "data": {
      "text/plain": [
       "age         0\n",
       "sex         0\n",
       "cp          0\n",
       "trestbps    0\n",
       "chol        0\n",
       "fbs         0\n",
       "restecg     0\n",
       "thalach     0\n",
       "exang       0\n",
       "oldpeak     0\n",
       "slope       0\n",
       "ca          0\n",
       "thal        0\n",
       "target      0\n",
       "dtype: int64"
      ]
     },
     "execution_count": 6,
     "metadata": {},
     "output_type": "execute_result"
    }
   ],
   "source": [
    "#Before describing data, check if there are any missing values\n",
    "\n",
    "#Check for each individual attributes (would there be an attribute for which there are a lot of missing values?)\n",
    "heartdata.isnull().sum()\n",
    "\n"
   ]
  },
  {
   "cell_type": "code",
   "execution_count": 7,
   "id": "partial-turkey",
   "metadata": {},
   "outputs": [
    {
     "data": {
      "text/plain": [
       "0      0\n",
       "208    0\n",
       "206    0\n",
       "205    0\n",
       "204    0\n",
       "      ..\n",
       "100    0\n",
       "99     0\n",
       "98     0\n",
       "97     0\n",
       "302    0\n",
       "Length: 303, dtype: int64"
      ]
     },
     "execution_count": 7,
     "metadata": {},
     "output_type": "execute_result"
    }
   ],
   "source": [
    "#Check for patients (are there patients that have missing information for any of the attributes?)\n",
    "#Will check if there any missing values per patient and sort output\n",
    "heartdata.isnull().sum(axis=1).sort_values(ascending=False)"
   ]
  },
  {
   "cell_type": "code",
   "execution_count": 8,
   "id": "fabulous-plymouth",
   "metadata": {},
   "outputs": [
    {
     "data": {
      "text/plain": [
       "0"
      ]
     },
     "execution_count": 8,
     "metadata": {},
     "output_type": "execute_result"
    }
   ],
   "source": [
    "#There appears to be no missing values:\n",
    "#so just to verify one last time, will do a sum of the sum of any missing values\n",
    "#This gives info if there is any missing value in the whole data frame\n",
    "heartdata.isnull().sum().sum()"
   ]
  },
  {
   "cell_type": "markdown",
   "id": "corrected-modification",
   "metadata": {},
   "source": [
    "### Exploration of dataset attributes"
   ]
  },
  {
   "cell_type": "code",
   "execution_count": 9,
   "id": "local-spice",
   "metadata": {},
   "outputs": [
    {
     "data": {
      "text/html": [
       "<div>\n",
       "<style scoped>\n",
       "    .dataframe tbody tr th:only-of-type {\n",
       "        vertical-align: middle;\n",
       "    }\n",
       "\n",
       "    .dataframe tbody tr th {\n",
       "        vertical-align: top;\n",
       "    }\n",
       "\n",
       "    .dataframe thead th {\n",
       "        text-align: right;\n",
       "    }\n",
       "</style>\n",
       "<table border=\"1\" class=\"dataframe\">\n",
       "  <thead>\n",
       "    <tr style=\"text-align: right;\">\n",
       "      <th></th>\n",
       "      <th>age</th>\n",
       "      <th>sex</th>\n",
       "      <th>cp</th>\n",
       "      <th>trestbps</th>\n",
       "      <th>chol</th>\n",
       "      <th>fbs</th>\n",
       "      <th>restecg</th>\n",
       "      <th>thalach</th>\n",
       "      <th>exang</th>\n",
       "      <th>oldpeak</th>\n",
       "      <th>slope</th>\n",
       "      <th>ca</th>\n",
       "      <th>thal</th>\n",
       "      <th>target</th>\n",
       "    </tr>\n",
       "  </thead>\n",
       "  <tbody>\n",
       "    <tr>\n",
       "      <th>count</th>\n",
       "      <td>303.000000</td>\n",
       "      <td>303.000000</td>\n",
       "      <td>303.000000</td>\n",
       "      <td>303.000000</td>\n",
       "      <td>303.000000</td>\n",
       "      <td>303.000000</td>\n",
       "      <td>303.000000</td>\n",
       "      <td>303.000000</td>\n",
       "      <td>303.000000</td>\n",
       "      <td>303.000000</td>\n",
       "      <td>303.000000</td>\n",
       "      <td>303.000000</td>\n",
       "      <td>303.000000</td>\n",
       "      <td>303.000000</td>\n",
       "    </tr>\n",
       "    <tr>\n",
       "      <th>mean</th>\n",
       "      <td>54.366337</td>\n",
       "      <td>0.683168</td>\n",
       "      <td>0.966997</td>\n",
       "      <td>131.623762</td>\n",
       "      <td>246.264026</td>\n",
       "      <td>0.148515</td>\n",
       "      <td>0.528053</td>\n",
       "      <td>149.646865</td>\n",
       "      <td>0.326733</td>\n",
       "      <td>1.039604</td>\n",
       "      <td>1.399340</td>\n",
       "      <td>0.729373</td>\n",
       "      <td>2.313531</td>\n",
       "      <td>0.544554</td>\n",
       "    </tr>\n",
       "    <tr>\n",
       "      <th>std</th>\n",
       "      <td>9.082101</td>\n",
       "      <td>0.466011</td>\n",
       "      <td>1.032052</td>\n",
       "      <td>17.538143</td>\n",
       "      <td>51.830751</td>\n",
       "      <td>0.356198</td>\n",
       "      <td>0.525860</td>\n",
       "      <td>22.905161</td>\n",
       "      <td>0.469794</td>\n",
       "      <td>1.161075</td>\n",
       "      <td>0.616226</td>\n",
       "      <td>1.022606</td>\n",
       "      <td>0.612277</td>\n",
       "      <td>0.498835</td>\n",
       "    </tr>\n",
       "    <tr>\n",
       "      <th>min</th>\n",
       "      <td>29.000000</td>\n",
       "      <td>0.000000</td>\n",
       "      <td>0.000000</td>\n",
       "      <td>94.000000</td>\n",
       "      <td>126.000000</td>\n",
       "      <td>0.000000</td>\n",
       "      <td>0.000000</td>\n",
       "      <td>71.000000</td>\n",
       "      <td>0.000000</td>\n",
       "      <td>0.000000</td>\n",
       "      <td>0.000000</td>\n",
       "      <td>0.000000</td>\n",
       "      <td>0.000000</td>\n",
       "      <td>0.000000</td>\n",
       "    </tr>\n",
       "    <tr>\n",
       "      <th>25%</th>\n",
       "      <td>47.500000</td>\n",
       "      <td>0.000000</td>\n",
       "      <td>0.000000</td>\n",
       "      <td>120.000000</td>\n",
       "      <td>211.000000</td>\n",
       "      <td>0.000000</td>\n",
       "      <td>0.000000</td>\n",
       "      <td>133.500000</td>\n",
       "      <td>0.000000</td>\n",
       "      <td>0.000000</td>\n",
       "      <td>1.000000</td>\n",
       "      <td>0.000000</td>\n",
       "      <td>2.000000</td>\n",
       "      <td>0.000000</td>\n",
       "    </tr>\n",
       "    <tr>\n",
       "      <th>50%</th>\n",
       "      <td>55.000000</td>\n",
       "      <td>1.000000</td>\n",
       "      <td>1.000000</td>\n",
       "      <td>130.000000</td>\n",
       "      <td>240.000000</td>\n",
       "      <td>0.000000</td>\n",
       "      <td>1.000000</td>\n",
       "      <td>153.000000</td>\n",
       "      <td>0.000000</td>\n",
       "      <td>0.800000</td>\n",
       "      <td>1.000000</td>\n",
       "      <td>0.000000</td>\n",
       "      <td>2.000000</td>\n",
       "      <td>1.000000</td>\n",
       "    </tr>\n",
       "    <tr>\n",
       "      <th>75%</th>\n",
       "      <td>61.000000</td>\n",
       "      <td>1.000000</td>\n",
       "      <td>2.000000</td>\n",
       "      <td>140.000000</td>\n",
       "      <td>274.500000</td>\n",
       "      <td>0.000000</td>\n",
       "      <td>1.000000</td>\n",
       "      <td>166.000000</td>\n",
       "      <td>1.000000</td>\n",
       "      <td>1.600000</td>\n",
       "      <td>2.000000</td>\n",
       "      <td>1.000000</td>\n",
       "      <td>3.000000</td>\n",
       "      <td>1.000000</td>\n",
       "    </tr>\n",
       "    <tr>\n",
       "      <th>max</th>\n",
       "      <td>77.000000</td>\n",
       "      <td>1.000000</td>\n",
       "      <td>3.000000</td>\n",
       "      <td>200.000000</td>\n",
       "      <td>564.000000</td>\n",
       "      <td>1.000000</td>\n",
       "      <td>2.000000</td>\n",
       "      <td>202.000000</td>\n",
       "      <td>1.000000</td>\n",
       "      <td>6.200000</td>\n",
       "      <td>2.000000</td>\n",
       "      <td>4.000000</td>\n",
       "      <td>3.000000</td>\n",
       "      <td>1.000000</td>\n",
       "    </tr>\n",
       "  </tbody>\n",
       "</table>\n",
       "</div>"
      ],
      "text/plain": [
       "              age         sex          cp    trestbps        chol         fbs  \\\n",
       "count  303.000000  303.000000  303.000000  303.000000  303.000000  303.000000   \n",
       "mean    54.366337    0.683168    0.966997  131.623762  246.264026    0.148515   \n",
       "std      9.082101    0.466011    1.032052   17.538143   51.830751    0.356198   \n",
       "min     29.000000    0.000000    0.000000   94.000000  126.000000    0.000000   \n",
       "25%     47.500000    0.000000    0.000000  120.000000  211.000000    0.000000   \n",
       "50%     55.000000    1.000000    1.000000  130.000000  240.000000    0.000000   \n",
       "75%     61.000000    1.000000    2.000000  140.000000  274.500000    0.000000   \n",
       "max     77.000000    1.000000    3.000000  200.000000  564.000000    1.000000   \n",
       "\n",
       "          restecg     thalach       exang     oldpeak       slope          ca  \\\n",
       "count  303.000000  303.000000  303.000000  303.000000  303.000000  303.000000   \n",
       "mean     0.528053  149.646865    0.326733    1.039604    1.399340    0.729373   \n",
       "std      0.525860   22.905161    0.469794    1.161075    0.616226    1.022606   \n",
       "min      0.000000   71.000000    0.000000    0.000000    0.000000    0.000000   \n",
       "25%      0.000000  133.500000    0.000000    0.000000    1.000000    0.000000   \n",
       "50%      1.000000  153.000000    0.000000    0.800000    1.000000    0.000000   \n",
       "75%      1.000000  166.000000    1.000000    1.600000    2.000000    1.000000   \n",
       "max      2.000000  202.000000    1.000000    6.200000    2.000000    4.000000   \n",
       "\n",
       "             thal      target  \n",
       "count  303.000000  303.000000  \n",
       "mean     2.313531    0.544554  \n",
       "std      0.612277    0.498835  \n",
       "min      0.000000    0.000000  \n",
       "25%      2.000000    0.000000  \n",
       "50%      2.000000    1.000000  \n",
       "75%      3.000000    1.000000  \n",
       "max      3.000000    1.000000  "
      ]
     },
     "execution_count": 9,
     "metadata": {},
     "output_type": "execute_result"
    }
   ],
   "source": [
    "#Get an idea of dataset statistics:\n",
    "heartdata.describe()"
   ]
  },
  {
   "cell_type": "code",
   "execution_count": 10,
   "id": "functioning-temperature",
   "metadata": {},
   "outputs": [
    {
     "data": {
      "image/png": "[encoded data removed]",
      "text/plain": [
       "<Figure size 1440x720 with 16 Axes>"
      ]
     },
     "metadata": {
      "needs_background": "light"
     },
     "output_type": "display_data"
    }
   ],
   "source": [
    "#Plot histograms of distribution for each attribute in order to better visualize data\n",
    "#This is important in order to see if there would be skewed data that were to be used in the decision tree classifier\n",
    "\n",
    "#Create a function that will plot a histogram for each of the 13 attributes:\n",
    "#Use the seaborn library for plotting\n",
    "\n",
    "heartdata.hist(figsize=(20,10),bins = 50,color='darkorange')\n",
    "plt.ylabel(\"Frequency\")\n",
    "plt.savefig(\"Att_distribution.png\",orientation='landscape',bbox_inches='tight')\n",
    "plt.show()"
   ]
  },
  {
   "cell_type": "code",
   "execution_count": 11,
   "id": "broke-broadway",
   "metadata": {},
   "outputs": [
    {
     "data": {
      "image/png": "[encoded data removed]",
      "text/plain": [
       "<Figure size 432x288 with 1 Axes>"
      ]
     },
     "metadata": {},
     "output_type": "display_data"
    }
   ],
   "source": [
    "#We see that there are more men than women (men are declared as \"1\").\n",
    "#heartdata.sex.value_counts() #There are 207 male vs 96 females\n",
    "\n",
    "#This is something that should be taken into account \n",
    "\n",
    "#Plot a pie chart representing the percentages of males and females\n",
    "\n",
    "labels=['Male', 'Female']\n",
    "plt.pie(heartdata.sex.value_counts(),labels=labels,explode=[0.1,0.1],\n",
    "        autopct='%1.2f%%', startangle=90)\n",
    "plt.title('Sex proportion')\n",
    "plt.axis('equal')\n",
    "plt.savefig(\"Sex_distribution-pie.png\",orientation='landscape',bbox_inches='tight')\n",
    "plt.show()\n"
   ]
  },
  {
   "cell_type": "markdown",
   "id": "outstanding-flush",
   "metadata": {},
   "source": [
    "### Explore presence of heart disease"
   ]
  },
  {
   "cell_type": "code",
   "execution_count": 12,
   "id": "indirect-pledge",
   "metadata": {},
   "outputs": [
    {
     "data": {
      "image/png": "[encoded data removed]",
      "text/plain": [
       "<Figure size 432x288 with 1 Axes>"
      ]
     },
     "metadata": {},
     "output_type": "display_data"
    }
   ],
   "source": [
    "#Althoug we can already see it on the histogram,\n",
    "#Plot a pie chart with percentages to better visualize percentage of patients presenting disease:\n",
    "labels=['Disease', 'No Disease']\n",
    "plt.pie(heartdata.target.value_counts(),labels=labels,explode=[0.1,0.1],\n",
    "        autopct='%1.2f%%', colors=['firebrick','lightcoral'],startangle=90)\n",
    "plt.title('Heart disease presence')\n",
    "plt.axis('equal')\n",
    "plt.savefig(\"Target_distribution-pie.png\",orientation='landscape',bbox_inches='tight')\n",
    "plt.show()\n"
   ]
  },
  {
   "cell_type": "markdown",
   "id": "painted-discussion",
   "metadata": {},
   "source": [
    "### Explore attributes and their correlation with heart disease outcome\n",
    "\n",
    "When predicting heart disease, it may appear interesting to look at attributes which are highly correlated. However, other attributes which may not appear as strongly correlated when looked at individually, may actually be important for the prediction when taken together as a group.  \n",
    "\n",
    "I will compare the prediction accuracy between models trained with these two different kinds of features. "
   ]
  },
  {
   "cell_type": "code",
   "execution_count": 13,
   "id": "pediatric-indonesia",
   "metadata": {},
   "outputs": [
    {
     "data": {
      "text/html": [
       "<div>\n",
       "<style scoped>\n",
       "    .dataframe tbody tr th:only-of-type {\n",
       "        vertical-align: middle;\n",
       "    }\n",
       "\n",
       "    .dataframe tbody tr th {\n",
       "        vertical-align: top;\n",
       "    }\n",
       "\n",
       "    .dataframe thead th {\n",
       "        text-align: right;\n",
       "    }\n",
       "</style>\n",
       "<table border=\"1\" class=\"dataframe\">\n",
       "  <thead>\n",
       "    <tr style=\"text-align: right;\">\n",
       "      <th></th>\n",
       "      <th>age</th>\n",
       "      <th>sex</th>\n",
       "      <th>cp</th>\n",
       "      <th>trestbps</th>\n",
       "      <th>chol</th>\n",
       "      <th>fbs</th>\n",
       "      <th>restecg</th>\n",
       "      <th>thalach</th>\n",
       "      <th>exang</th>\n",
       "      <th>oldpeak</th>\n",
       "      <th>slope</th>\n",
       "      <th>ca</th>\n",
       "      <th>thal</th>\n",
       "      <th>target</th>\n",
       "    </tr>\n",
       "  </thead>\n",
       "  <tbody>\n",
       "    <tr>\n",
       "      <th>age</th>\n",
       "      <td>1.000000</td>\n",
       "      <td>-0.098447</td>\n",
       "      <td>-0.068653</td>\n",
       "      <td>0.279351</td>\n",
       "      <td>0.213678</td>\n",
       "      <td>0.121308</td>\n",
       "      <td>-0.116211</td>\n",
       "      <td>-0.398522</td>\n",
       "      <td>0.096801</td>\n",
       "      <td>0.210013</td>\n",
       "      <td>-0.168814</td>\n",
       "      <td>0.276326</td>\n",
       "      <td>0.068001</td>\n",
       "      <td>-0.225439</td>\n",
       "    </tr>\n",
       "    <tr>\n",
       "      <th>sex</th>\n",
       "      <td>-0.098447</td>\n",
       "      <td>1.000000</td>\n",
       "      <td>-0.049353</td>\n",
       "      <td>-0.056769</td>\n",
       "      <td>-0.197912</td>\n",
       "      <td>0.045032</td>\n",
       "      <td>-0.058196</td>\n",
       "      <td>-0.044020</td>\n",
       "      <td>0.141664</td>\n",
       "      <td>0.096093</td>\n",
       "      <td>-0.030711</td>\n",
       "      <td>0.118261</td>\n",
       "      <td>0.210041</td>\n",
       "      <td>-0.280937</td>\n",
       "    </tr>\n",
       "    <tr>\n",
       "      <th>cp</th>\n",
       "      <td>-0.068653</td>\n",
       "      <td>-0.049353</td>\n",
       "      <td>1.000000</td>\n",
       "      <td>0.047608</td>\n",
       "      <td>-0.076904</td>\n",
       "      <td>0.094444</td>\n",
       "      <td>0.044421</td>\n",
       "      <td>0.295762</td>\n",
       "      <td>-0.394280</td>\n",
       "      <td>-0.149230</td>\n",
       "      <td>0.119717</td>\n",
       "      <td>-0.181053</td>\n",
       "      <td>-0.161736</td>\n",
       "      <td>0.433798</td>\n",
       "    </tr>\n",
       "    <tr>\n",
       "      <th>trestbps</th>\n",
       "      <td>0.279351</td>\n",
       "      <td>-0.056769</td>\n",
       "      <td>0.047608</td>\n",
       "      <td>1.000000</td>\n",
       "      <td>0.123174</td>\n",
       "      <td>0.177531</td>\n",
       "      <td>-0.114103</td>\n",
       "      <td>-0.046698</td>\n",
       "      <td>0.067616</td>\n",
       "      <td>0.193216</td>\n",
       "      <td>-0.121475</td>\n",
       "      <td>0.101389</td>\n",
       "      <td>0.062210</td>\n",
       "      <td>-0.144931</td>\n",
       "    </tr>\n",
       "    <tr>\n",
       "      <th>chol</th>\n",
       "      <td>0.213678</td>\n",
       "      <td>-0.197912</td>\n",
       "      <td>-0.076904</td>\n",
       "      <td>0.123174</td>\n",
       "      <td>1.000000</td>\n",
       "      <td>0.013294</td>\n",
       "      <td>-0.151040</td>\n",
       "      <td>-0.009940</td>\n",
       "      <td>0.067023</td>\n",
       "      <td>0.053952</td>\n",
       "      <td>-0.004038</td>\n",
       "      <td>0.070511</td>\n",
       "      <td>0.098803</td>\n",
       "      <td>-0.085239</td>\n",
       "    </tr>\n",
       "    <tr>\n",
       "      <th>fbs</th>\n",
       "      <td>0.121308</td>\n",
       "      <td>0.045032</td>\n",
       "      <td>0.094444</td>\n",
       "      <td>0.177531</td>\n",
       "      <td>0.013294</td>\n",
       "      <td>1.000000</td>\n",
       "      <td>-0.084189</td>\n",
       "      <td>-0.008567</td>\n",
       "      <td>0.025665</td>\n",
       "      <td>0.005747</td>\n",
       "      <td>-0.059894</td>\n",
       "      <td>0.137979</td>\n",
       "      <td>-0.032019</td>\n",
       "      <td>-0.028046</td>\n",
       "    </tr>\n",
       "    <tr>\n",
       "      <th>restecg</th>\n",
       "      <td>-0.116211</td>\n",
       "      <td>-0.058196</td>\n",
       "      <td>0.044421</td>\n",
       "      <td>-0.114103</td>\n",
       "      <td>-0.151040</td>\n",
       "      <td>-0.084189</td>\n",
       "      <td>1.000000</td>\n",
       "      <td>0.044123</td>\n",
       "      <td>-0.070733</td>\n",
       "      <td>-0.058770</td>\n",
       "      <td>0.093045</td>\n",
       "      <td>-0.072042</td>\n",
       "      <td>-0.011981</td>\n",
       "      <td>0.137230</td>\n",
       "    </tr>\n",
       "    <tr>\n",
       "      <th>thalach</th>\n",
       "      <td>-0.398522</td>\n",
       "      <td>-0.044020</td>\n",
       "      <td>0.295762</td>\n",
       "      <td>-0.046698</td>\n",
       "      <td>-0.009940</td>\n",
       "      <td>-0.008567</td>\n",
       "      <td>0.044123</td>\n",
       "      <td>1.000000</td>\n",
       "      <td>-0.378812</td>\n",
       "      <td>-0.344187</td>\n",
       "      <td>0.386784</td>\n",
       "      <td>-0.213177</td>\n",
       "      <td>-0.096439</td>\n",
       "      <td>0.421741</td>\n",
       "    </tr>\n",
       "    <tr>\n",
       "      <th>exang</th>\n",
       "      <td>0.096801</td>\n",
       "      <td>0.141664</td>\n",
       "      <td>-0.394280</td>\n",
       "      <td>0.067616</td>\n",
       "      <td>0.067023</td>\n",
       "      <td>0.025665</td>\n",
       "      <td>-0.070733</td>\n",
       "      <td>-0.378812</td>\n",
       "      <td>1.000000</td>\n",
       "      <td>0.288223</td>\n",
       "      <td>-0.257748</td>\n",
       "      <td>0.115739</td>\n",
       "      <td>0.206754</td>\n",
       "      <td>-0.436757</td>\n",
       "    </tr>\n",
       "    <tr>\n",
       "      <th>oldpeak</th>\n",
       "      <td>0.210013</td>\n",
       "      <td>0.096093</td>\n",
       "      <td>-0.149230</td>\n",
       "      <td>0.193216</td>\n",
       "      <td>0.053952</td>\n",
       "      <td>0.005747</td>\n",
       "      <td>-0.058770</td>\n",
       "      <td>-0.344187</td>\n",
       "      <td>0.288223</td>\n",
       "      <td>1.000000</td>\n",
       "      <td>-0.577537</td>\n",
       "      <td>0.222682</td>\n",
       "      <td>0.210244</td>\n",
       "      <td>-0.430696</td>\n",
       "    </tr>\n",
       "    <tr>\n",
       "      <th>slope</th>\n",
       "      <td>-0.168814</td>\n",
       "      <td>-0.030711</td>\n",
       "      <td>0.119717</td>\n",
       "      <td>-0.121475</td>\n",
       "      <td>-0.004038</td>\n",
       "      <td>-0.059894</td>\n",
       "      <td>0.093045</td>\n",
       "      <td>0.386784</td>\n",
       "      <td>-0.257748</td>\n",
       "      <td>-0.577537</td>\n",
       "      <td>1.000000</td>\n",
       "      <td>-0.080155</td>\n",
       "      <td>-0.104764</td>\n",
       "      <td>0.345877</td>\n",
       "    </tr>\n",
       "    <tr>\n",
       "      <th>ca</th>\n",
       "      <td>0.276326</td>\n",
       "      <td>0.118261</td>\n",
       "      <td>-0.181053</td>\n",
       "      <td>0.101389</td>\n",
       "      <td>0.070511</td>\n",
       "      <td>0.137979</td>\n",
       "      <td>-0.072042</td>\n",
       "      <td>-0.213177</td>\n",
       "      <td>0.115739</td>\n",
       "      <td>0.222682</td>\n",
       "      <td>-0.080155</td>\n",
       "      <td>1.000000</td>\n",
       "      <td>0.151832</td>\n",
       "      <td>-0.391724</td>\n",
       "    </tr>\n",
       "    <tr>\n",
       "      <th>thal</th>\n",
       "      <td>0.068001</td>\n",
       "      <td>0.210041</td>\n",
       "      <td>-0.161736</td>\n",
       "      <td>0.062210</td>\n",
       "      <td>0.098803</td>\n",
       "      <td>-0.032019</td>\n",
       "      <td>-0.011981</td>\n",
       "      <td>-0.096439</td>\n",
       "      <td>0.206754</td>\n",
       "      <td>0.210244</td>\n",
       "      <td>-0.104764</td>\n",
       "      <td>0.151832</td>\n",
       "      <td>1.000000</td>\n",
       "      <td>-0.344029</td>\n",
       "    </tr>\n",
       "    <tr>\n",
       "      <th>target</th>\n",
       "      <td>-0.225439</td>\n",
       "      <td>-0.280937</td>\n",
       "      <td>0.433798</td>\n",
       "      <td>-0.144931</td>\n",
       "      <td>-0.085239</td>\n",
       "      <td>-0.028046</td>\n",
       "      <td>0.137230</td>\n",
       "      <td>0.421741</td>\n",
       "      <td>-0.436757</td>\n",
       "      <td>-0.430696</td>\n",
       "      <td>0.345877</td>\n",
       "      <td>-0.391724</td>\n",
       "      <td>-0.344029</td>\n",
       "      <td>1.000000</td>\n",
       "    </tr>\n",
       "  </tbody>\n",
       "</table>\n",
       "</div>"
      ],
      "text/plain": [
       "               age       sex        cp  trestbps      chol       fbs  \\\n",
       "age       1.000000 -0.098447 -0.068653  0.279351  0.213678  0.121308   \n",
       "sex      -0.098447  1.000000 -0.049353 -0.056769 -0.197912  0.045032   \n",
       "cp       -0.068653 -0.049353  1.000000  0.047608 -0.076904  0.094444   \n",
       "trestbps  0.279351 -0.056769  0.047608  1.000000  0.123174  0.177531   \n",
       "chol      0.213678 -0.197912 -0.076904  0.123174  1.000000  0.013294   \n",
       "fbs       0.121308  0.045032  0.094444  0.177531  0.013294  1.000000   \n",
       "restecg  -0.116211 -0.058196  0.044421 -0.114103 -0.151040 -0.084189   \n",
       "thalach  -0.398522 -0.044020  0.295762 -0.046698 -0.009940 -0.008567   \n",
       "exang     0.096801  0.141664 -0.394280  0.067616  0.067023  0.025665   \n",
       "oldpeak   0.210013  0.096093 -0.149230  0.193216  0.053952  0.005747   \n",
       "slope    -0.168814 -0.030711  0.119717 -0.121475 -0.004038 -0.059894   \n",
       "ca        0.276326  0.118261 -0.181053  0.101389  0.070511  0.137979   \n",
       "thal      0.068001  0.210041 -0.161736  0.062210  0.098803 -0.032019   \n",
       "target   -0.225439 -0.280937  0.433798 -0.144931 -0.085239 -0.028046   \n",
       "\n",
       "           restecg   thalach     exang   oldpeak     slope        ca  \\\n",
       "age      -0.116211 -0.398522  0.096801  0.210013 -0.168814  0.276326   \n",
       "sex      -0.058196 -0.044020  0.141664  0.096093 -0.030711  0.118261   \n",
       "cp        0.044421  0.295762 -0.394280 -0.149230  0.119717 -0.181053   \n",
       "trestbps -0.114103 -0.046698  0.067616  0.193216 -0.121475  0.101389   \n",
       "chol     -0.151040 -0.009940  0.067023  0.053952 -0.004038  0.070511   \n",
       "fbs      -0.084189 -0.008567  0.025665  0.005747 -0.059894  0.137979   \n",
       "restecg   1.000000  0.044123 -0.070733 -0.058770  0.093045 -0.072042   \n",
       "thalach   0.044123  1.000000 -0.378812 -0.344187  0.386784 -0.213177   \n",
       "exang    -0.070733 -0.378812  1.000000  0.288223 -0.257748  0.115739   \n",
       "oldpeak  -0.058770 -0.344187  0.288223  1.000000 -0.577537  0.222682   \n",
       "slope     0.093045  0.386784 -0.257748 -0.577537  1.000000 -0.080155   \n",
       "ca       -0.072042 -0.213177  0.115739  0.222682 -0.080155  1.000000   \n",
       "thal     -0.011981 -0.096439  0.206754  0.210244 -0.104764  0.151832   \n",
       "target    0.137230  0.421741 -0.436757 -0.430696  0.345877 -0.391724   \n",
       "\n",
       "              thal    target  \n",
       "age       0.068001 -0.225439  \n",
       "sex       0.210041 -0.280937  \n",
       "cp       -0.161736  0.433798  \n",
       "trestbps  0.062210 -0.144931  \n",
       "chol      0.098803 -0.085239  \n",
       "fbs      -0.032019 -0.028046  \n",
       "restecg  -0.011981  0.137230  \n",
       "thalach  -0.096439  0.421741  \n",
       "exang     0.206754 -0.436757  \n",
       "oldpeak   0.210244 -0.430696  \n",
       "slope    -0.104764  0.345877  \n",
       "ca        0.151832 -0.391724  \n",
       "thal      1.000000 -0.344029  \n",
       "target   -0.344029  1.000000  "
      ]
     },
     "execution_count": 13,
     "metadata": {},
     "output_type": "execute_result"
    }
   ],
   "source": [
    "#Calculate pearson correlation between all attributes to see \n",
    "#which are the most correlated to disease presence (\"target\" attribute)\n",
    "heartdata.corr()"
   ]
  },
  {
   "cell_type": "code",
   "execution_count": 14,
   "id": "cubic-pollution",
   "metadata": {},
   "outputs": [
    {
     "data": {
      "image/png": "[encoded data removed]",
      "text/plain": [
       "<Figure size 1440x720 with 2 Axes>"
      ]
     },
     "metadata": {},
     "output_type": "display_data"
    }
   ],
   "source": [
    "#In order to better visualize results from correlation table, plot as a diagonal correlation diagram\n",
    "#Use seaborn library to create this plot\n",
    "\n",
    "#Define style and size of figure\n",
    "sns.set_theme(style=\"white\")\n",
    "plt.figure(figsize=(20, 10))\n",
    "\n",
    "#Generate a mask in order to just plot lower triangle of corr diagram\n",
    "mask = np.triu(np.ones_like(heartdata.corr(), dtype=np.bool))\n",
    "\n",
    "\n",
    "heatmap = sns.heatmap(heartdata.corr(), mask=mask,annot=True, cmap='RdBu_r', linewidths = 2)\n",
    "heatmap.set_title('Pearson Correlation between attributes', fontdict={'fontsize':30}, pad=16)\n",
    "plt.savefig(\"Heatmap-att.png\",orientation='landscape',bbox_inches='tight')"
   ]
  },
  {
   "cell_type": "markdown",
   "id": "floppy-lithuania",
   "metadata": {},
   "source": [
    "From correlation matrix we can observe that the attributes that come out as the most and least correlated to the disease presence (\"target\") are:\n",
    "\n",
    "Most correlated:\n",
    "\n",
    "    *cp: Chest Pain\n",
    "    *thalach: Person's maximum heart rate achieved\n",
    "    *slope: Slope of the peak exercise ST segment\n",
    "\n",
    "Least correlated:\n",
    "\n",
    "    *exang: Exercise induced angina\n",
    "    *oldpeak: ST depression induced by exercise relative to rest\n",
    "    *ca: Number of major vessels colored by fluoroscopy"
   ]
  },
  {
   "cell_type": "code",
   "execution_count": 15,
   "id": "extended-thong",
   "metadata": {},
   "outputs": [
    {
     "name": "stdout",
     "output_type": "stream",
     "text": [
      "target    0   1\n",
      "cp             \n",
      "0       104  39\n",
      "1         9  41\n",
      "2        18  69\n",
      "3         7  16\n"
     ]
    },
    {
     "data": {
      "image/png": "[encoded data removed]",
      "text/plain": [
       "<Figure size 720x360 with 1 Axes>"
      ]
     },
     "metadata": {},
     "output_type": "display_data"
    }
   ],
   "source": [
    "#Plot individual graphs for  strongly correlated attributes against disease presence for better visualization:\n",
    "\n",
    "#For Cp:\n",
    "#Use crosstab from pandas which allow to create a cross tabulation table from two series\n",
    "\n",
    "print(pd.crosstab(heartdata.cp,heartdata.target))\n",
    "\n",
    "##Cp\n",
    "pd.crosstab(heartdata.cp,heartdata.target).plot(kind=\"bar\",figsize=(10,5),color=['lightcoral','firebrick' ])\n",
    "plt.xlabel('Chest Pain Type')\n",
    "plt.xticks(rotation = 0)\n",
    "plt.ylabel('Patient Frequency')\n",
    "plt.legend(['No Disease','Disease'],title=\"Heart Disease\")\n",
    "plt.title(\"Chest Pain Type and presence of heart disease\",fontweight=\"bold\")\n",
    "plt.savefig(\"Cp-target.png\",orientation='landscape',bbox_inches='tight')\n",
    "plt.show()\n",
    "\n",
    "\n"
   ]
  },
  {
   "cell_type": "code",
   "execution_count": 16,
   "id": "prerequisite-bermuda",
   "metadata": {},
   "outputs": [
    {
     "data": {
      "image/png": "[encoded data removed]",
      "text/plain": [
       "<Figure size 432x288 with 1 Axes>"
      ]
     },
     "metadata": {},
     "output_type": "display_data"
    }
   ],
   "source": [
    "##Thalach vs disease presence:\n",
    "\n",
    "#Since Thalach has many continuous values, need to use boxplot rather than frequency plot to compare\n",
    "\n",
    "g=sns.boxplot(data=heartdata,x='target' ,y='thalach', palette = [\"lightcoral\",\"firebrick\"])\n",
    "plt.xticks(rotation = 0)\n",
    "plt.title(\"Person's maximum heart rate achieved and presence of heart disease\",fontweight=\"bold\")\n",
    "#Add values as points in boxplots to better look at distribution of samples:\n",
    "g = sns.stripplot(data=heartdata,x='target' ,y='thalach', color=\".3\",alpha=0.5)\n",
    "plt.xlabel(\"Presence of Heart Disease (0= No Presence)\")\n",
    "plt.ylabel(\"Person's maximum heart rate achieved\")\n",
    "plt.savefig(\"Thalach-target.png\",orientation='landscape',bbox_inches='tight')\n",
    "plt.show()\n",
    "\n",
    "\n"
   ]
  },
  {
   "cell_type": "code",
   "execution_count": 17,
   "id": "provincial-simple",
   "metadata": {},
   "outputs": [
    {
     "data": {
      "image/png": "[encoded data removed]",
      "text/plain": [
       "<Figure size 720x360 with 1 Axes>"
      ]
     },
     "metadata": {},
     "output_type": "display_data"
    }
   ],
   "source": [
    "##Slope: Slope of the peak exercise ST segment\n",
    "\n",
    "#Since we have discrete values, plot as bar:\n",
    "\n",
    "pd.crosstab(heartdata.slope,heartdata.target).plot(kind=\"bar\",figsize=(10,5),color=['lightcoral','firebrick' ])\n",
    "plt.xlabel('Slope of the peak exercise ST segment')\n",
    "plt.xticks(rotation = 0)\n",
    "plt.ylabel('Patient Frequency')\n",
    "plt.legend(['No Disease','Disease'],title=\"Heart Disease\")\n",
    "plt.title(\"Slope of the peak exercise ST segment and presence of heart disease\",fontweight=\"bold\")\n",
    "plt.savefig(\"Slope-target.png\",orientation='landscape',bbox_inches='tight')\n",
    "plt.show()"
   ]
  },
  {
   "cell_type": "code",
   "execution_count": 18,
   "id": "rapid-provincial",
   "metadata": {},
   "outputs": [
    {
     "data": {
      "image/png": "[encoded data removed]",
      "text/plain": [
       "<Figure size 720x360 with 1 Axes>"
      ]
     },
     "metadata": {},
     "output_type": "display_data"
    }
   ],
   "source": [
    "##exang: Exercise induced angina\n",
    "\n",
    "#Since we have discrete values, plot as bar:\n",
    "\n",
    "pd.crosstab(heartdata.exang,heartdata.target).plot(kind=\"bar\",figsize=(10,5),color=['lightcoral','firebrick' ])\n",
    "plt.xlabel('Exercise induced angina')\n",
    "plt.xticks(rotation = 0)\n",
    "plt.ylabel('Patient Frequency')\n",
    "plt.legend(['No Disease','Disease'],title=\"Heart Disease\")\n",
    "plt.title(\"Exercise induced angina and presence of heart disease\",fontweight=\"bold\")\n",
    "plt.savefig(\"Exang-target.png\",orientation='landscape',bbox_inches='tight')\n",
    "plt.show()"
   ]
  },
  {
   "cell_type": "code",
   "execution_count": 19,
   "id": "modern-accent",
   "metadata": {},
   "outputs": [
    {
     "data": {
      "image/png": "[encoded data removed]",
      "text/plain": [
       "<Figure size 432x288 with 1 Axes>"
      ]
     },
     "metadata": {},
     "output_type": "display_data"
    }
   ],
   "source": [
    "##Oldpeak vs disease presence:\n",
    "\n",
    "#Since Oldpeak has many continuous values, need to use boxplot rather than frequency plot to compare\n",
    "\n",
    "g=sns.boxplot(data=heartdata,x='target' ,y='oldpeak', palette = [\"lightcoral\",\"firebrick\"])\n",
    "plt.xticks(rotation = 0)\n",
    "plt.title(\"ST depression induced by exercise relative to rest and presence of heart disease\",fontweight=\"bold\")\n",
    "#Add values as points in boxplots to better look at distribution of samples:\n",
    "g = sns.stripplot(data=heartdata,x='target' ,y='oldpeak', color=\".3\",alpha=0.5)\n",
    "plt.xlabel(\"Presence of Heart Disease (0= No Presence)\")\n",
    "plt.ylabel(\"ST depression induced by \\nexercise relative to rest\")\n",
    "plt.savefig(\"oldpeak-target.png\",orientation='landscape',bbox_inches='tight')\n",
    "plt.show()\n"
   ]
  },
  {
   "cell_type": "code",
   "execution_count": 20,
   "id": "lightweight-detective",
   "metadata": {},
   "outputs": [
    {
     "data": {
      "image/png": "[encoded data removed]",
      "text/plain": [
       "<Figure size 720x360 with 1 Axes>"
      ]
     },
     "metadata": {},
     "output_type": "display_data"
    }
   ],
   "source": [
    "##ca vs disease presence:\n",
    "\n",
    "pd.crosstab(heartdata.ca,heartdata.target).plot(kind=\"bar\",figsize=(10,5),color=['lightcoral','firebrick' ])\n",
    "plt.xlabel('Number of major vessels')\n",
    "plt.xticks(rotation = 0)\n",
    "plt.ylabel('Patient Frequency')\n",
    "plt.legend(['No Disease','Disease'],title=\"Heart Disease\")\n",
    "plt.title(\"Number of major vessels  and presence of heart disease\",fontweight=\"bold\")\n",
    "plt.savefig(\"ca-target.png\",orientation='landscape',bbox_inches='tight')\n",
    "plt.show()\n",
    "\n"
   ]
  },
  {
   "cell_type": "markdown",
   "id": "crude-protein",
   "metadata": {},
   "source": [
    "## Step 3: Decision Tree\n",
    "\n",
    "As mentioned before, it could be interesting to build a decision tree using features that are:  \n",
    "\n",
    "1. Strongly correlated to heart disease. \n",
    "2. Invidually not strongly correlated to heart disease.\n",
    " \n",
    "I will firstly train the decision tree with the set of strongly correlated features, and the compare to training with (ii) a set of non correlated features and to (iii) a mixture of both. "
   ]
  },
  {
   "cell_type": "markdown",
   "id": "associate-tolerance",
   "metadata": {},
   "source": [
    "### Training Phase"
   ]
  },
  {
   "cell_type": "code",
   "execution_count": 21,
   "id": "suited-instruction",
   "metadata": {},
   "outputs": [
    {
     "data": {
      "text/html": [
       "<div>\n",
       "<style scoped>\n",
       "    .dataframe tbody tr th:only-of-type {\n",
       "        vertical-align: middle;\n",
       "    }\n",
       "\n",
       "    .dataframe tbody tr th {\n",
       "        vertical-align: top;\n",
       "    }\n",
       "\n",
       "    .dataframe thead th {\n",
       "        text-align: right;\n",
       "    }\n",
       "</style>\n",
       "<table border=\"1\" class=\"dataframe\">\n",
       "  <thead>\n",
       "    <tr style=\"text-align: right;\">\n",
       "      <th></th>\n",
       "      <th>age</th>\n",
       "      <th>sex</th>\n",
       "      <th>cp</th>\n",
       "      <th>trestbps</th>\n",
       "      <th>chol</th>\n",
       "      <th>fbs</th>\n",
       "      <th>restecg</th>\n",
       "      <th>thalach</th>\n",
       "      <th>exang</th>\n",
       "      <th>oldpeak</th>\n",
       "      <th>slope</th>\n",
       "      <th>ca</th>\n",
       "      <th>thal</th>\n",
       "      <th>target</th>\n",
       "      <th>HDisease</th>\n",
       "    </tr>\n",
       "  </thead>\n",
       "  <tbody>\n",
       "    <tr>\n",
       "      <th>0</th>\n",
       "      <td>63</td>\n",
       "      <td>1</td>\n",
       "      <td>3</td>\n",
       "      <td>145</td>\n",
       "      <td>233</td>\n",
       "      <td>1</td>\n",
       "      <td>0</td>\n",
       "      <td>150</td>\n",
       "      <td>0</td>\n",
       "      <td>2.3</td>\n",
       "      <td>0</td>\n",
       "      <td>0</td>\n",
       "      <td>1</td>\n",
       "      <td>1</td>\n",
       "      <td>Disease</td>\n",
       "    </tr>\n",
       "    <tr>\n",
       "      <th>1</th>\n",
       "      <td>37</td>\n",
       "      <td>1</td>\n",
       "      <td>2</td>\n",
       "      <td>130</td>\n",
       "      <td>250</td>\n",
       "      <td>0</td>\n",
       "      <td>1</td>\n",
       "      <td>187</td>\n",
       "      <td>0</td>\n",
       "      <td>3.5</td>\n",
       "      <td>0</td>\n",
       "      <td>0</td>\n",
       "      <td>2</td>\n",
       "      <td>1</td>\n",
       "      <td>Disease</td>\n",
       "    </tr>\n",
       "  </tbody>\n",
       "</table>\n",
       "</div>"
      ],
      "text/plain": [
       "   age  sex  cp  trestbps  chol  fbs  restecg  thalach  exang  oldpeak  slope  \\\n",
       "0   63    1   3       145   233    1        0      150      0      2.3      0   \n",
       "1   37    1   2       130   250    0        1      187      0      3.5      0   \n",
       "\n",
       "   ca  thal  target HDisease  \n",
       "0   0     1       1  Disease  \n",
       "1   0     2       1  Disease  "
      ]
     },
     "execution_count": 21,
     "metadata": {},
     "output_type": "execute_result"
    }
   ],
   "source": [
    "#For easier visualization of results, convert numerical indicator of heart disease into text:\n",
    "heartdata[\"HDisease\"]= np.where(heartdata['target']== 1, \"Disease\", \"NoDisease\")\n",
    "\n",
    "#Check it worked\n",
    "heartdata.head(2)\n"
   ]
  },
  {
   "cell_type": "code",
   "execution_count": 22,
   "id": "proper-portal",
   "metadata": {},
   "outputs": [
    {
     "data": {
      "text/html": [
       "<div>\n",
       "<style scoped>\n",
       "    .dataframe tbody tr th:only-of-type {\n",
       "        vertical-align: middle;\n",
       "    }\n",
       "\n",
       "    .dataframe tbody tr th {\n",
       "        vertical-align: top;\n",
       "    }\n",
       "\n",
       "    .dataframe thead th {\n",
       "        text-align: right;\n",
       "    }\n",
       "</style>\n",
       "<table border=\"1\" class=\"dataframe\">\n",
       "  <thead>\n",
       "    <tr style=\"text-align: right;\">\n",
       "      <th></th>\n",
       "      <th>age</th>\n",
       "      <th>sex</th>\n",
       "      <th>cp</th>\n",
       "      <th>trestbps</th>\n",
       "      <th>chol</th>\n",
       "      <th>fbs</th>\n",
       "      <th>restecg</th>\n",
       "      <th>thalach</th>\n",
       "      <th>exang</th>\n",
       "      <th>oldpeak</th>\n",
       "      <th>slope</th>\n",
       "      <th>ca</th>\n",
       "      <th>thal</th>\n",
       "      <th>target</th>\n",
       "      <th>HDisease</th>\n",
       "    </tr>\n",
       "  </thead>\n",
       "  <tbody>\n",
       "    <tr>\n",
       "      <th>301</th>\n",
       "      <td>57</td>\n",
       "      <td>1</td>\n",
       "      <td>0</td>\n",
       "      <td>130</td>\n",
       "      <td>131</td>\n",
       "      <td>0</td>\n",
       "      <td>1</td>\n",
       "      <td>115</td>\n",
       "      <td>1</td>\n",
       "      <td>1.2</td>\n",
       "      <td>1</td>\n",
       "      <td>1</td>\n",
       "      <td>3</td>\n",
       "      <td>0</td>\n",
       "      <td>NoDisease</td>\n",
       "    </tr>\n",
       "    <tr>\n",
       "      <th>302</th>\n",
       "      <td>57</td>\n",
       "      <td>0</td>\n",
       "      <td>1</td>\n",
       "      <td>130</td>\n",
       "      <td>236</td>\n",
       "      <td>0</td>\n",
       "      <td>0</td>\n",
       "      <td>174</td>\n",
       "      <td>0</td>\n",
       "      <td>0.0</td>\n",
       "      <td>1</td>\n",
       "      <td>1</td>\n",
       "      <td>2</td>\n",
       "      <td>0</td>\n",
       "      <td>NoDisease</td>\n",
       "    </tr>\n",
       "  </tbody>\n",
       "</table>\n",
       "</div>"
      ],
      "text/plain": [
       "     age  sex  cp  trestbps  chol  fbs  restecg  thalach  exang  oldpeak  \\\n",
       "301   57    1   0       130   131    0        1      115      1      1.2   \n",
       "302   57    0   1       130   236    0        0      174      0      0.0   \n",
       "\n",
       "     slope  ca  thal  target   HDisease  \n",
       "301      1   1     3       0  NoDisease  \n",
       "302      1   1     2       0  NoDisease  "
      ]
     },
     "execution_count": 22,
     "metadata": {},
     "output_type": "execute_result"
    }
   ],
   "source": [
    "heartdata.tail(2)"
   ]
  },
  {
   "cell_type": "code",
   "execution_count": 23,
   "id": "acknowledged-soldier",
   "metadata": {},
   "outputs": [
    {
     "name": "stdout",
     "output_type": "stream",
     "text": [
      "Index(['HDisease'], dtype='object')\n"
     ]
    },
    {
     "data": {
      "text/plain": [
       "<bound method NDFrame.head of       HDisease\n",
       "0      Disease\n",
       "1      Disease\n",
       "2      Disease\n",
       "3      Disease\n",
       "4      Disease\n",
       "..         ...\n",
       "298  NoDisease\n",
       "299  NoDisease\n",
       "300  NoDisease\n",
       "301  NoDisease\n",
       "302  NoDisease\n",
       "\n",
       "[303 rows x 1 columns]>"
      ]
     },
     "execution_count": 23,
     "metadata": {},
     "output_type": "execute_result"
    }
   ],
   "source": [
    "#Define target to be predicted (Y):\n",
    "y=heartdata[['HDisease']].copy()\n",
    "print(y.columns)\n",
    "y.head\n"
   ]
  },
  {
   "cell_type": "code",
   "execution_count": 24,
   "id": "distinguished-residence",
   "metadata": {},
   "outputs": [
    {
     "name": "stdout",
     "output_type": "stream",
     "text": [
      "Sets of features to train Decision Tree for prediction\n",
      "--------\n",
      "Set1-Features strongly correlated to heart disease: ['cp', 'thalach', 'slope', 'exang', 'oldpeak', 'ca'] \n",
      "Set2-Features not strongly correlated to heart disease: ['chol', 'age', 'trestbps', 'thal', 'fbs', 'restecg', 'sex'] \n"
     ]
    }
   ],
   "source": [
    "#Define set of features to use for prediction\n",
    "print(\"Sets of features to train Decision Tree for prediction\\n--------\")\n",
    "\n",
    "#Set1: Features strongly correlated to heart disease\n",
    "features=['cp','thalach','slope','exang','oldpeak','ca']\n",
    "print(\"Set1-Features strongly correlated to heart disease: {} \".format(features))\n",
    "\n",
    "#Set2: Features not strongly correlated to heart disease\n",
    "features2=heartdata.columns.tolist()\n",
    "features2=list(set(features2)-set(features))\n",
    "#Take out target and HDisease from list\n",
    "features2=list(set(features2) - set(['target','HDisease']))\n",
    "print(\"Set2-Features not strongly correlated to heart disease: {} \".format(features2))"
   ]
  },
  {
   "cell_type": "code",
   "execution_count": 25,
   "id": "brown-cisco",
   "metadata": {},
   "outputs": [
    {
     "data": {
      "text/html": [
       "<div>\n",
       "<style scoped>\n",
       "    .dataframe tbody tr th:only-of-type {\n",
       "        vertical-align: middle;\n",
       "    }\n",
       "\n",
       "    .dataframe tbody tr th {\n",
       "        vertical-align: top;\n",
       "    }\n",
       "\n",
       "    .dataframe thead th {\n",
       "        text-align: right;\n",
       "    }\n",
       "</style>\n",
       "<table border=\"1\" class=\"dataframe\">\n",
       "  <thead>\n",
       "    <tr style=\"text-align: right;\">\n",
       "      <th></th>\n",
       "      <th>cp</th>\n",
       "      <th>thalach</th>\n",
       "      <th>slope</th>\n",
       "      <th>exang</th>\n",
       "      <th>oldpeak</th>\n",
       "      <th>ca</th>\n",
       "    </tr>\n",
       "  </thead>\n",
       "  <tbody>\n",
       "    <tr>\n",
       "      <th>0</th>\n",
       "      <td>3</td>\n",
       "      <td>150</td>\n",
       "      <td>0</td>\n",
       "      <td>0</td>\n",
       "      <td>2.3</td>\n",
       "      <td>0</td>\n",
       "    </tr>\n",
       "    <tr>\n",
       "      <th>1</th>\n",
       "      <td>2</td>\n",
       "      <td>187</td>\n",
       "      <td>0</td>\n",
       "      <td>0</td>\n",
       "      <td>3.5</td>\n",
       "      <td>0</td>\n",
       "    </tr>\n",
       "    <tr>\n",
       "      <th>2</th>\n",
       "      <td>1</td>\n",
       "      <td>172</td>\n",
       "      <td>2</td>\n",
       "      <td>0</td>\n",
       "      <td>1.4</td>\n",
       "      <td>0</td>\n",
       "    </tr>\n",
       "    <tr>\n",
       "      <th>3</th>\n",
       "      <td>1</td>\n",
       "      <td>178</td>\n",
       "      <td>2</td>\n",
       "      <td>0</td>\n",
       "      <td>0.8</td>\n",
       "      <td>0</td>\n",
       "    </tr>\n",
       "    <tr>\n",
       "      <th>4</th>\n",
       "      <td>0</td>\n",
       "      <td>163</td>\n",
       "      <td>2</td>\n",
       "      <td>1</td>\n",
       "      <td>0.6</td>\n",
       "      <td>0</td>\n",
       "    </tr>\n",
       "    <tr>\n",
       "      <th>...</th>\n",
       "      <td>...</td>\n",
       "      <td>...</td>\n",
       "      <td>...</td>\n",
       "      <td>...</td>\n",
       "      <td>...</td>\n",
       "      <td>...</td>\n",
       "    </tr>\n",
       "    <tr>\n",
       "      <th>298</th>\n",
       "      <td>0</td>\n",
       "      <td>123</td>\n",
       "      <td>1</td>\n",
       "      <td>1</td>\n",
       "      <td>0.2</td>\n",
       "      <td>0</td>\n",
       "    </tr>\n",
       "    <tr>\n",
       "      <th>299</th>\n",
       "      <td>3</td>\n",
       "      <td>132</td>\n",
       "      <td>1</td>\n",
       "      <td>0</td>\n",
       "      <td>1.2</td>\n",
       "      <td>0</td>\n",
       "    </tr>\n",
       "    <tr>\n",
       "      <th>300</th>\n",
       "      <td>0</td>\n",
       "      <td>141</td>\n",
       "      <td>1</td>\n",
       "      <td>0</td>\n",
       "      <td>3.4</td>\n",
       "      <td>2</td>\n",
       "    </tr>\n",
       "    <tr>\n",
       "      <th>301</th>\n",
       "      <td>0</td>\n",
       "      <td>115</td>\n",
       "      <td>1</td>\n",
       "      <td>1</td>\n",
       "      <td>1.2</td>\n",
       "      <td>1</td>\n",
       "    </tr>\n",
       "    <tr>\n",
       "      <th>302</th>\n",
       "      <td>1</td>\n",
       "      <td>174</td>\n",
       "      <td>1</td>\n",
       "      <td>0</td>\n",
       "      <td>0.0</td>\n",
       "      <td>1</td>\n",
       "    </tr>\n",
       "  </tbody>\n",
       "</table>\n",
       "<p>303 rows × 6 columns</p>\n",
       "</div>"
      ],
      "text/plain": [
       "     cp  thalach  slope  exang  oldpeak  ca\n",
       "0     3      150      0      0      2.3   0\n",
       "1     2      187      0      0      3.5   0\n",
       "2     1      172      2      0      1.4   0\n",
       "3     1      178      2      0      0.8   0\n",
       "4     0      163      2      1      0.6   0\n",
       "..   ..      ...    ...    ...      ...  ..\n",
       "298   0      123      1      1      0.2   0\n",
       "299   3      132      1      0      1.2   0\n",
       "300   0      141      1      0      3.4   2\n",
       "301   0      115      1      1      1.2   1\n",
       "302   1      174      1      0      0.0   1\n",
       "\n",
       "[303 rows x 6 columns]"
      ]
     },
     "metadata": {},
     "output_type": "display_data"
    }
   ],
   "source": [
    "#Define X and visualize columns were subset correctly\n",
    "X = heartdata[features].copy()\n",
    "display(X)"
   ]
  },
  {
   "cell_type": "markdown",
   "id": "touched-holiday",
   "metadata": {},
   "source": [
    "### Function for prediction: 3 steps:  \n",
    "\n",
    "1. Define tratinig set and split test set\n",
    "2. Fit on training set\n",
    "3. Get accuracy score  "
   ]
  },
  {
   "cell_type": "code",
   "execution_count": 26,
   "id": "aquatic-dubai",
   "metadata": {},
   "outputs": [],
   "source": [
    "#Create a function where we can choose features to train model with:\n",
    "\n",
    "def DTreefun(X,y,tsize=0.33,ranstate=324,Max_leaf_nodes=10,ranstateclass=0,accuracy_detailed=False):\n",
    "    \n",
    "    #1.Define tratinig set and split test set:\n",
    "    ##########################################\n",
    "    X_train, X_test, y_train, y_test = train_test_split(X, y, test_size=tsize, random_state=ranstate)\n",
    "\n",
    "    print(f'Number of samples in dataset: {len(X)}')\n",
    "    print(f'Number of samples in training dataset: {len(X_train)}')\n",
    "    \n",
    "    #2.Fit on training set:\n",
    "    #####################\n",
    "    heartdisease_classifier = DecisionTreeClassifier(max_leaf_nodes=Max_leaf_nodes, random_state=ranstateclass)\n",
    "    heartdisease_classifier.fit(X_train, y_train)\n",
    "    \n",
    "    #3.Get accuracy score:\n",
    "    #####################\n",
    "    predictions = heartdisease_classifier.predict(X_test)\n",
    "    acc_score=accuracy_score(y_true = y_test, y_pred = predictions)\n",
    "    \n",
    "    if accuracy_detailed is True:\n",
    "        from sklearn.metrics import classification_report\n",
    "        print(classification_report(predictions, y_test))\n",
    "    else:\n",
    "        print(\"Accuracy score is {} \".format(acc_score))\n",
    "        "
   ]
  },
  {
   "cell_type": "markdown",
   "id": "abandoned-apartment",
   "metadata": {},
   "source": [
    "### Prediction using strongly correlated features:"
   ]
  },
  {
   "cell_type": "code",
   "execution_count": 27,
   "id": "sitting-obligation",
   "metadata": {},
   "outputs": [
    {
     "name": "stdout",
     "output_type": "stream",
     "text": [
      "Number of samples in dataset: 303\n",
      "Number of samples in training dataset: 203\n",
      "Accuracy score is 0.83 \n"
     ]
    }
   ],
   "source": [
    "X = heartdata[features].copy()\n",
    "y = heartdata[['HDisease']].copy()\n",
    "DTreefun(X,y,tsize=0.33,ranstate=324,Max_leaf_nodes=10,ranstateclass=0)\n",
    "\n",
    "\n",
    "#Note: I carried out first the decision tree classifier without indicating max leaf nodes\n",
    "#In this way the max number of depth is achieved. This resulted in an accuracy score of 0.8,\n",
    "#lower than when up to max 10 nodes are chosen"
   ]
  },
  {
   "cell_type": "markdown",
   "id": "reverse-hanging",
   "metadata": {},
   "source": [
    "From the [sklearn website](https://scikit-learn.org/stable/modules/model_evaluation.html#classification-report), there is a function that enables to measure more in detail the accuray of the classification.\n",
    "\n",
    "This report includes, per predicted classification the:\n",
    "\n",
    "    * Precision: \"Ability of the classifier not to label as positive a sample that is negative\"\n",
    "    * Recall: \"Ability of the classifier to find all the positive samples\"\n",
    "    * F1-score: \"Harmonic mean of precision and recall. The highest possible value of an F-score is 1.0, indicating perfect precision and recall, and the lowest possible value is 0\"\n",
    "    "
   ]
  },
  {
   "cell_type": "code",
   "execution_count": 28,
   "id": "outdoor-emperor",
   "metadata": {},
   "outputs": [
    {
     "name": "stdout",
     "output_type": "stream",
     "text": [
      "Number of samples in dataset: 303\n",
      "Number of samples in training dataset: 203\n",
      "              precision    recall  f1-score   support\n",
      "\n",
      "     Disease       0.93      0.79      0.85        63\n",
      "   NoDisease       0.72      0.89      0.80        37\n",
      "\n",
      "    accuracy                           0.83       100\n",
      "   macro avg       0.82      0.84      0.82       100\n",
      "weighted avg       0.85      0.83      0.83       100\n",
      "\n"
     ]
    }
   ],
   "source": [
    "DTreefun(X,y,tsize=0.33,ranstate=324,Max_leaf_nodes=10,ranstateclass=0,accuracy_detailed=True)"
   ]
  },
  {
   "cell_type": "markdown",
   "id": "requested-phone",
   "metadata": {},
   "source": [
    "### Prediction using weakly correlated features:"
   ]
  },
  {
   "cell_type": "code",
   "execution_count": 29,
   "id": "meaning-virginia",
   "metadata": {},
   "outputs": [
    {
     "name": "stdout",
     "output_type": "stream",
     "text": [
      "Number of samples in dataset: 303\n",
      "Number of samples in training dataset: 203\n",
      "              precision    recall  f1-score   support\n",
      "\n",
      "     Disease       0.74      0.77      0.75        52\n",
      "   NoDisease       0.74      0.71      0.72        48\n",
      "\n",
      "    accuracy                           0.74       100\n",
      "   macro avg       0.74      0.74      0.74       100\n",
      "weighted avg       0.74      0.74      0.74       100\n",
      "\n"
     ]
    }
   ],
   "source": [
    "#Using all other non-strongly correlated features\n",
    "X = heartdata[features2].copy()\n",
    "y = heartdata[['HDisease']].copy()\n",
    "DTreefun(X,y,tsize=0.33,ranstate=324,Max_leaf_nodes=10,ranstateclass=0,accuracy_detailed=True)\n"
   ]
  },
  {
   "cell_type": "code",
   "execution_count": 30,
   "id": "hairy-actor",
   "metadata": {},
   "outputs": [
    {
     "name": "stdout",
     "output_type": "stream",
     "text": [
      "Number of samples in dataset: 303\n",
      "Number of samples in training dataset: 203\n",
      "              precision    recall  f1-score   support\n",
      "\n",
      "     Disease       0.67      0.69      0.68        52\n",
      "   NoDisease       0.65      0.62      0.64        48\n",
      "\n",
      "    accuracy                           0.66       100\n",
      "   macro avg       0.66      0.66      0.66       100\n",
      "weighted avg       0.66      0.66      0.66       100\n",
      "\n"
     ]
    }
   ],
   "source": [
    "#Using features that would be not as weakly correlated\n",
    "features3=['age','sex','restecg','thal']\n",
    "X = heartdata[features3].copy()\n",
    "y = heartdata[['HDisease']].copy()\n",
    "DTreefun(X,y,tsize=0.33,ranstate=324,Max_leaf_nodes=10,ranstateclass=0,accuracy_detailed=True)"
   ]
  },
  {
   "cell_type": "markdown",
   "id": "banned-cheese",
   "metadata": {},
   "source": [
    "### Prediction using strongly and weakly correlated features"
   ]
  },
  {
   "cell_type": "code",
   "execution_count": 31,
   "id": "developed-sandwich",
   "metadata": {},
   "outputs": [
    {
     "name": "stdout",
     "output_type": "stream",
     "text": [
      "Number of samples in dataset: 303\n",
      "Number of samples in training dataset: 203\n",
      "              precision    recall  f1-score   support\n",
      "\n",
      "     Disease       0.94      0.80      0.86        64\n",
      "   NoDisease       0.72      0.92      0.80        36\n",
      "\n",
      "    accuracy                           0.84       100\n",
      "   macro avg       0.83      0.86      0.83       100\n",
      "weighted avg       0.86      0.84      0.84       100\n",
      "\n"
     ]
    }
   ],
   "source": [
    "#Biological reason: could age and cholesterol levels contribute to a better prediction if combined with strongly correlated features?\n",
    "features4=features+['age','chol']\n",
    "X = heartdata[features4].copy()\n",
    "y = heartdata[['HDisease']].copy()\n",
    "DTreefun(X,y,tsize=0.33,ranstate=324,Max_leaf_nodes=10,ranstateclass=0,accuracy_detailed=True)"
   ]
  },
  {
   "cell_type": "markdown",
   "id": "enhanced-cherry",
   "metadata": {},
   "source": [
    "### Validation randomly selecting features: "
   ]
  },
  {
   "cell_type": "code",
   "execution_count": 34,
   "id": "renewable-platform",
   "metadata": {},
   "outputs": [
    {
     "name": "stdout",
     "output_type": "stream",
     "text": [
      "['oldpeak', 'slope', 'thal', 'sex', 'age', 'restecg']\n",
      "Number of samples in dataset: 303\n",
      "Number of samples in training dataset: 203\n",
      "              precision    recall  f1-score   support\n",
      "\n",
      "     Disease       0.70      0.76      0.73        50\n",
      "   NoDisease       0.74      0.68      0.71        50\n",
      "\n",
      "    accuracy                           0.72       100\n",
      "   macro avg       0.72      0.72      0.72       100\n",
      "weighted avg       0.72      0.72      0.72       100\n",
      "\n"
     ]
    }
   ],
   "source": [
    "all_features=features+features2\n",
    "randfeatures=random.sample(all_features, 6)\n",
    "print(randfeatures)\n",
    "X = heartdata[randfeatures].copy()\n",
    "y = heartdata[['HDisease']].copy()\n",
    "DTreefun(X,y,tsize=0.33,ranstate=324,Max_leaf_nodes=10,ranstateclass=0,accuracy_detailed=True)"
   ]
  },
  {
   "cell_type": "markdown",
   "id": "active-mechanism",
   "metadata": {},
   "source": [
    "## Step 4: Conclusion\n",
    "\n",
    "I found that the attributes that appeared to be the most correlated (positively or negatively) to heart disease in the set of 303 patients from the Cleveland Clinic are:\n",
    "\n",
    "* Chest Pain\n",
    "* Person's maximum heart rate achieved \n",
    "* Slope of the peak exercise ST segment\n",
    "* Exercise induced angina\n",
    "* ST depression induced by exercise relative to rest\n",
    "* Number of major vessels\n",
    "\n",
    "Using such features, I  built a Decision tree classification model that performed with an average accuracy of 0.82, and an average ability to find all true positive samples of 0.84.  \n",
    "\n",
    "I also compared the prediction when taking weakly correlated features.\n",
    "* **If only taking weakly correlated features:** The model fared less well.\n",
    "* When **combining** certain **biologically relevant features** combined **to strongly correlated features:** \n",
    "    Taking age and cholesterol levels (features initially not so strongly correlated when evaluated individually), combined to the previous strongly correlated features resulted in a **better accuracy**: Average accuracy of 0.83; Average ability to find true positive samples:0.86.\n",
    "\n",
    "This demonstrates that it is important to not only evaluate highly correlated features to the outcome we wish to predict. "
   ]
  },
  {
   "cell_type": "code",
   "execution_count": null,
   "id": "informative-breakdown",
   "metadata": {},
   "outputs": [],
   "source": []
  }
 ],
 "metadata": {
  "kernelspec": {
   "display_name": "Python 3",
   "language": "python",
   "name": "python3"
  },
  "language_info": {
   "codemirror_mode": {
    "name": "ipython",
    "version": 3
   },
   "file_extension": ".py",
   "mimetype": "text/x-python",
   "name": "python",
   "nbconvert_exporter": "python",
   "pygments_lexer": "ipython3",
   "version": "3.8.5"
  }
 },
 "nbformat": 4,
 "nbformat_minor": 5
}
